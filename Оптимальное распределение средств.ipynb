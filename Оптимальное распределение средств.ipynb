{
 "cells": [
  {
   "cell_type": "code",
   "execution_count": 1,
   "id": "6057c031",
   "metadata": {},
   "outputs": [],
   "source": [
    "import pandas as pd"
   ]
  },
  {
   "cell_type": "code",
   "execution_count": 2,
   "id": "5ac03f6a",
   "metadata": {},
   "outputs": [
    {
     "data": {
      "text/html": [
       "<div>\n",
       "<style scoped>\n",
       "    .dataframe tbody tr th:only-of-type {\n",
       "        vertical-align: middle;\n",
       "    }\n",
       "\n",
       "    .dataframe tbody tr th {\n",
       "        vertical-align: top;\n",
       "    }\n",
       "\n",
       "    .dataframe thead th {\n",
       "        text-align: right;\n",
       "    }\n",
       "</style>\n",
       "<table border=\"1\" class=\"dataframe\">\n",
       "  <thead>\n",
       "    <tr style=\"text-align: right;\">\n",
       "      <th></th>\n",
       "      <th>Ф1</th>\n",
       "      <th>Ф2</th>\n",
       "      <th>Ф3</th>\n",
       "    </tr>\n",
       "  </thead>\n",
       "  <tbody>\n",
       "    <tr>\n",
       "      <th>0</th>\n",
       "      <td>0</td>\n",
       "      <td>0</td>\n",
       "      <td>0</td>\n",
       "    </tr>\n",
       "    <tr>\n",
       "      <th>100</th>\n",
       "      <td>40</td>\n",
       "      <td>30</td>\n",
       "      <td>40</td>\n",
       "    </tr>\n",
       "    <tr>\n",
       "      <th>200</th>\n",
       "      <td>50</td>\n",
       "      <td>80</td>\n",
       "      <td>50</td>\n",
       "    </tr>\n",
       "    <tr>\n",
       "      <th>300</th>\n",
       "      <td>90</td>\n",
       "      <td>80</td>\n",
       "      <td>100</td>\n",
       "    </tr>\n",
       "    <tr>\n",
       "      <th>400</th>\n",
       "      <td>110</td>\n",
       "      <td>150</td>\n",
       "      <td>120</td>\n",
       "    </tr>\n",
       "    <tr>\n",
       "      <th>500</th>\n",
       "      <td>170</td>\n",
       "      <td>190</td>\n",
       "      <td>180</td>\n",
       "    </tr>\n",
       "    <tr>\n",
       "      <th>600</th>\n",
       "      <td>180</td>\n",
       "      <td>200</td>\n",
       "      <td>210</td>\n",
       "    </tr>\n",
       "  </tbody>\n",
       "</table>\n",
       "</div>"
      ],
      "text/plain": [
       "      Ф1   Ф2   Ф3\n",
       "0      0    0    0\n",
       "100   40   30   40\n",
       "200   50   80   50\n",
       "300   90   80  100\n",
       "400  110  150  120\n",
       "500  170  190  180\n",
       "600  180  200  210"
      ]
     },
     "execution_count": 2,
     "metadata": {},
     "output_type": "execute_result"
    }
   ],
   "source": [
    "data = {'Ф1':[0, 40, 50, 90, 110, 170, 180], 'Ф2':[0, 30, 80, 80, 150, 190, 200],'Ф3':[0, 40, 50, 100, 120, 180, 210]}\n",
    "df = pd.DataFrame(data, index = [0, 100, 200, 300, 400, 500, 600])\n",
    "df"
   ]
  },
  {
   "cell_type": "code",
   "execution_count": 54,
   "id": "04da43be",
   "metadata": {},
   "outputs": [
    {
     "name": "stdout",
     "output_type": "stream",
     "text": [
      " Сумма инвестиций равна 600. \n",
      " Максимальная эффективность вложений по 3 фирмам составила 230.\n",
      " инвестиции в 1 фирму: 100, отдача 40; \n",
      " инвестиции во 2 фирму: 400, отдача 150; \n",
      " инвестиции в 3 фирму: 100, отдача 40.\n"
     ]
    }
   ],
   "source": [
    "capacity={}\n",
    "\n",
    "for i in df.index:\n",
    "    max_dict = {}\n",
    "    for f1 in df.index:\n",
    "        for f2 in df.index:\n",
    "            if f1+f2 == i:\n",
    "                a = df['Ф1'].loc[f1]+df['Ф2'].loc[f2]\n",
    "                max_dict[a] = (f1,f2)\n",
    "    m = max(list(max_dict.keys()))\n",
    "    capacity[m] = max_dict[m]\n",
    "df['Ф1_Ф2_опт'] = list(capacity.keys())\n",
    "invest = df['Ф1_Ф2_опт'].idxmax()\n",
    "col = df['Ф1_Ф2_опт'][::-1]\n",
    "col.index = df['Ф3'].index\n",
    "df['col'] = col\n",
    "df['final'] = df['Ф3'] + df['col']\n",
    "opt = max(df.final)\n",
    "list_index_opt = df.index[df['final'] == opt].tolist()\n",
    "i3_opt = list_index_opt[1]\n",
    "f3_opt = df['Ф3'].loc[i3_opt]\n",
    "i1_opt = capacity[opt - f3_opt][0]\n",
    "i2_opt = capacity[opt - f3_opt][1]\n",
    "f1_opt = df['Ф1'].loc[i1_opt]\n",
    "f2_opt = df['Ф2'].loc[i2_opt]\n",
    "print(f' Сумма инвестиций равна {invest}. \\n Максимальная эффективность вложений по 3 фирмам составила {opt}.\\n инвестиции в 1 фирму: {i1_opt}, отдача {f1_opt}; \\n',\n",
    "     f'инвестиции во 2 фирму: {i2_opt}, отдача {f2_opt}; \\n инвестиции в 3 фирму: {i3_opt}, отдача {f3_opt}.')"
   ]
  },
  {
   "cell_type": "code",
   "execution_count": null,
   "id": "fae4883d",
   "metadata": {},
   "outputs": [],
   "source": []
  }
 ],
 "metadata": {
  "kernelspec": {
   "display_name": "Python 3 (ipykernel)",
   "language": "python",
   "name": "python3"
  },
  "language_info": {
   "codemirror_mode": {
    "name": "ipython",
    "version": 3
   },
   "file_extension": ".py",
   "mimetype": "text/x-python",
   "name": "python",
   "nbconvert_exporter": "python",
   "pygments_lexer": "ipython3",
   "version": "3.11.4"
  }
 },
 "nbformat": 4,
 "nbformat_minor": 5
}
