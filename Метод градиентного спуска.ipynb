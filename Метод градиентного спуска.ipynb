{
 "cells": [
  {
   "cell_type": "code",
   "execution_count": 1,
   "id": "2b63c6c0",
   "metadata": {},
   "outputs": [],
   "source": [
    "import numpy as np"
   ]
  },
  {
   "cell_type": "code",
   "execution_count": 2,
   "id": "8c8407ae",
   "metadata": {},
   "outputs": [],
   "source": [
    "def func(x):\n",
    "    return 2*x[0]**2 + 5*x[1]**2+x[0]*x[1] -3*x[0]-x[1]+5\n",
    "def grad(x):\n",
    "    return np.array([4*x[0]+x[1]-3,10*x[1]+x[0]-1])"
   ]
  },
  {
   "cell_type": "code",
   "execution_count": 3,
   "id": "a266aad4",
   "metadata": {},
   "outputs": [],
   "source": [
    "eps = 0.1\n",
    "alfa = 0.01\n",
    "x = np.array([1,1])\n",
    "k = 1\n",
    "g = grad(x)"
   ]
  },
  {
   "cell_type": "code",
   "execution_count": 4,
   "id": "913e1420",
   "metadata": {},
   "outputs": [
    {
     "name": "stdout",
     "output_type": "stream",
     "text": [
      "Решение с точностью 0.096 найдено на 47 итерации , x* = [0.7605801 0.0302287], f(x*) = 3.8726 \n"
     ]
    }
   ],
   "source": [
    "while (g[0]**2+g[1]**2)**0.5 > eps:\n",
    "    z = x - alfa*g\n",
    "    if func(z)<func(x):\n",
    "        x = z\n",
    "        g = grad(x)\n",
    "        k+=1\n",
    "    else:\n",
    "        alfa = alfa/2\n",
    "x_opt = x\n",
    "f_opt = func(x)\n",
    "print(f'Решение с точностью {round((g[0]**2+g[1]**2)**0.5,3)} найдено на {k} итерации , x* = {x_opt}, f(x*) = {round(f_opt,4)} ')\n"
   ]
  },
  {
   "cell_type": "code",
   "execution_count": null,
   "id": "89e3302a",
   "metadata": {},
   "outputs": [],
   "source": []
  }
 ],
 "metadata": {
  "kernelspec": {
   "display_name": "Python 3 (ipykernel)",
   "language": "python",
   "name": "python3"
  },
  "language_info": {
   "codemirror_mode": {
    "name": "ipython",
    "version": 3
   },
   "file_extension": ".py",
   "mimetype": "text/x-python",
   "name": "python",
   "nbconvert_exporter": "python",
   "pygments_lexer": "ipython3",
   "version": "3.11.4"
  }
 },
 "nbformat": 4,
 "nbformat_minor": 5
}
