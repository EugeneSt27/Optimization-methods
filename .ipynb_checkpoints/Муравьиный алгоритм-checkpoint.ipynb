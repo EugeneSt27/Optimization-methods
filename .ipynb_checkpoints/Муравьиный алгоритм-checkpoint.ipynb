{
 "cells": [
  {
   "cell_type": "code",
   "execution_count": 210,
   "id": "c60a5deb",
   "metadata": {},
   "outputs": [],
   "source": [
    "import numpy as np\n",
    "import random"
   ]
  },
  {
   "cell_type": "code",
   "execution_count": 211,
   "id": "d42d1d7f",
   "metadata": {},
   "outputs": [],
   "source": [
    "Q = 10\n",
    "matrix = np.array([[0, 40, 75, 60, 45],\n",
    "                   [40, 0, 45, 65, 70],\n",
    "                   [75, 45, 0, 50, 80],\n",
    "                   [60, 65, 50, 0, 40],\n",
    "                   [45, 70, 80, 40, 0]])"
   ]
  },
  {
   "cell_type": "code",
   "execution_count": 212,
   "id": "bb9dbeba",
   "metadata": {},
   "outputs": [
    {
     "name": "stderr",
     "output_type": "stream",
     "text": [
      "C:\\Users\\User\\AppData\\Local\\Temp\\ipykernel_12024\\4051862487.py:1: RuntimeWarning: divide by zero encountered in divide\n",
      "  vision = 1/matrix # задаем матрицу видимости\n"
     ]
    },
    {
     "data": {
      "text/plain": [
       "array([[       inf, 0.025     , 0.01333333, 0.01666667, 0.02222222],\n",
       "       [0.025     ,        inf, 0.02222222, 0.01538462, 0.01428571],\n",
       "       [0.01333333, 0.02222222,        inf, 0.02      , 0.0125    ],\n",
       "       [0.01666667, 0.01538462, 0.02      ,        inf, 0.025     ],\n",
       "       [0.02222222, 0.01428571, 0.0125    , 0.025     ,        inf]])"
      ]
     },
     "execution_count": 212,
     "metadata": {},
     "output_type": "execute_result"
    }
   ],
   "source": [
    "vision = 1/matrix # задаем матрицу видимости\n",
    "vision"
   ]
  },
  {
   "cell_type": "code",
   "execution_count": 214,
   "id": "fd2ad561",
   "metadata": {},
   "outputs": [
    {
     "data": {
      "text/plain": [
       "[[0, 0.02, 0.02, 0.02, 0.02],\n",
       " [0.02, 0, 0.02, 0.02, 0.02],\n",
       " [0.02, 0.02, 0, 0.02, 0.02],\n",
       " [0.02, 0.02, 0.02, 0, 0.02],\n",
       " [0.02, 0.02, 0.02, 0.02, 0]]"
      ]
     },
     "execution_count": 214,
     "metadata": {},
     "output_type": "execute_result"
    }
   ],
   "source": [
    "pheromon = [[0.02 for i in range(0,len(matrix))] for i in range(0,len(matrix))] # матрица феромонов \n",
    "for i in range(len(pheromon)):\n",
    "    pheromon[i][i] = 0\n",
    "pheromon"
   ]
  },
  {
   "cell_type": "code",
   "execution_count": 215,
   "id": "d1c654b0",
   "metadata": {},
   "outputs": [],
   "source": [
    "def find_path(matrix, l): # длина пути\n",
    "    s = matrix[l[0]-1][l[1]-1] + matrix[l[1]-1][l[2]-1] + matrix[l[2]-1][l[3]-1] + matrix[l[3]-1][l[4]-1] + matrix[l[4]-1][l[0]-1]\n",
    "    return(s)"
   ]
  },
  {
   "cell_type": "code",
   "execution_count": 216,
   "id": "986d43ec",
   "metadata": {},
   "outputs": [],
   "source": [
    "def path_list(l): # список кортежей с информацией, из какой вершину в какую идем \n",
    "    p =[]\n",
    "    for i in range(len(l)):\n",
    "        if i != l.index(l[-1]):\n",
    "            x, y = l[i], l[i+1]\n",
    "            p.append((x,y))\n",
    "        else: \n",
    "            p.append((l[i], l[0]))\n",
    "    return p"
   ]
  },
  {
   "cell_type": "code",
   "execution_count": 217,
   "id": "a8a94d78",
   "metadata": {},
   "outputs": [],
   "source": [
    "def more_pheromon(pheromon, delta, path): # функция, добавляющая феромоны\n",
    "    for i in path:\n",
    "        pheromon[i[0]-1][i[1]-1]+=delta\n",
    "        pheromon[i[1]-1][i[0]-1]+=delta\n",
    "    return pheromon  "
   ]
  },
  {
   "cell_type": "code",
   "execution_count": 218,
   "id": "bf3a5d58",
   "metadata": {},
   "outputs": [],
   "source": [
    "results = []\n",
    "n = 1 # счетчик итераций"
   ]
  },
  {
   "cell_type": "code",
   "execution_count": 219,
   "id": "b62beaa1",
   "metadata": {},
   "outputs": [],
   "source": [
    "for i in range(100):   \n",
    "        tabu_list = []\n",
    "        J = [1,2,3,4,5]\n",
    "        x=1\n",
    "        while x in J:\n",
    "            J.remove(x)\n",
    "            tabu_list.append(x)\n",
    "            v1 = np.delete(vision[x-1], [a-1 for a in tabu_list])\n",
    "            f1  = np.delete(pheromon[x-1], [a-1 for a in tabu_list])\n",
    "            z = v1*f1\n",
    "            d = {}\n",
    "            for k in range(len(matrix)):\n",
    "                if (k != x-1) & (k+1 not in tabu_list): \n",
    "                    #p, c = vision[x-1][k]*pheromon[x-1][k]/sum(z), k+1\n",
    "                    d[k+1] = vision[x-1][k]*pheromon[x-1][k]/sum(z)\n",
    "            l = [sum(list(d.values())[:i-1]) for i in d.keys()]\n",
    "            for key in d:\n",
    "                d[key] = l.pop(0)\n",
    "            r = random.random()\n",
    "            for key in d:\n",
    "                if r < d[key]:\n",
    "                    x = key           \n",
    "                    break\n",
    "        path = path_list(tabu_list)\n",
    "        L = find_path(matrix, tabu_list)\n",
    "        delta = Q/L\n",
    "        results.append((L,n, delta))\n",
    "        pheromon = more_pheromon(pheromon, delta, path)\n",
    "        n +=1"
   ]
  },
  {
   "cell_type": "code",
   "execution_count": 220,
   "id": "185992af",
   "metadata": {},
   "outputs": [
    {
     "data": {
      "text/plain": [
       "[[0,\n",
       "  3.2299567099567073,\n",
       "  0.6389241196589981,\n",
       "  0.5604658311145745,\n",
       "  4.039294414126311],\n",
       " [3.2299567099567073,\n",
       "  0,\n",
       "  3.7897587604075027,\n",
       "  0.8507422255741233,\n",
       "  0.5981833789182573],\n",
       " [0.6389241196589981,\n",
       "  3.7897587604075027,\n",
       "  0,\n",
       "  3.63311396557298,\n",
       "  0.40684422921711055],\n",
       " [0.5604658311145745,\n",
       "  0.8507422255741233,\n",
       "  3.63311396557298,\n",
       "  0,\n",
       "  3.424319052594913],\n",
       " [4.039294414126311,\n",
       "  0.5981833789182573,\n",
       "  0.40684422921711055,\n",
       "  3.424319052594913,\n",
       "  0]]"
      ]
     },
     "execution_count": 220,
     "metadata": {},
     "output_type": "execute_result"
    }
   ],
   "source": [
    "pheromon"
   ]
  },
  {
   "cell_type": "markdown",
   "id": "110a5194",
   "metadata": {},
   "source": [
    "# Самый часто используемый путь: 1 -> 2 -> 3 -> 4 -> 5 -> 1 "
   ]
  },
  {
   "cell_type": "code",
   "execution_count": null,
   "id": "54b1b145",
   "metadata": {},
   "outputs": [],
   "source": []
  }
 ],
 "metadata": {
  "kernelspec": {
   "display_name": "Python 3 (ipykernel)",
   "language": "python",
   "name": "python3"
  },
  "language_info": {
   "codemirror_mode": {
    "name": "ipython",
    "version": 3
   },
   "file_extension": ".py",
   "mimetype": "text/x-python",
   "name": "python",
   "nbconvert_exporter": "python",
   "pygments_lexer": "ipython3",
   "version": "3.11.4"
  }
 },
 "nbformat": 4,
 "nbformat_minor": 5
}
