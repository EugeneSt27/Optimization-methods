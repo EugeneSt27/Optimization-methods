{
 "cells": [
  {
   "cell_type": "code",
   "execution_count": 1,
   "id": "d70e9f01",
   "metadata": {},
   "outputs": [],
   "source": [
    "import numpy as np\n",
    "import networkx as nx\n",
    "import matplotlib.pyplot as plt"
   ]
  },
  {
   "cell_type": "code",
   "execution_count": 2,
   "id": "5ac05bed",
   "metadata": {},
   "outputs": [
    {
     "name": "stdout",
     "output_type": "stream",
     "text": [
      "Введите число строк: 3\n",
      "Введите число столбцов: 3\n"
     ]
    }
   ],
   "source": [
    "# вводим число строк и столбцов\n",
    "n = int(input(\"Введите число строк: \"))\n",
    "m = int(input(\"Введите число столбцов: \"))"
   ]
  },
  {
   "cell_type": "code",
   "execution_count": 59,
   "id": "925e6c9d",
   "metadata": {},
   "outputs": [
    {
     "name": "stdout",
     "output_type": "stream",
     "text": [
      "Введите значение для элемента (0, 0): 0\n",
      "Введите значение для элемента (0, 1): 0\n",
      "Введите значение для элемента (0, 2): 1\n",
      "Введите значение для элемента (1, 0): 0\n",
      "Введите значение для элемента (1, 1): 0\n",
      "Введите значение для элемента (1, 2): 0\n",
      "Введите значение для элемента (2, 0): 1\n",
      "Введите значение для элемента (2, 1): 0\n",
      "Введите значение для элемента (2, 2): 0\n",
      "[[0. 0. 1.]\n",
      " [0. 0. 0.]\n",
      " [1. 0. 0.]]\n"
     ]
    }
   ],
   "source": [
    "matrix = np.zeros((n, m))\n",
    "for i in range(n):\n",
    "    for j in range(m):\n",
    "        x = int(input(f\"Введите значение для элемента ({i}, {j}): \"))\n",
    "        matrix[i][j] = x\n",
    "print(matrix)"
   ]
  },
  {
   "cell_type": "code",
   "execution_count": 63,
   "id": "28fb5c7d",
   "metadata": {},
   "outputs": [],
   "source": [
    "matrix = np.array([[0,1,0,1,0],\n",
    "                   [1,0,1,0,1],\n",
    "                   [0,1,0,1,0],\n",
    "                   [1,0,1,0,1],\n",
    "                   [0,1,0,1,0]])"
   ]
  },
  {
   "cell_type": "markdown",
   "id": "67721aa6",
   "metadata": {},
   "source": [
    "## алгоритм логического перемножения матриц"
   ]
  },
  {
   "cell_type": "code",
   "execution_count": 36,
   "id": "2bfdaf4a",
   "metadata": {},
   "outputs": [],
   "source": [
    "def mult_mat(matrix, n):\n",
    "    m = matrix\n",
    "    for i in range(n-1):\n",
    "        m = np.dot(m, matrix)\n",
    "        m[m>1]= 1\n",
    "    return m    "
   ]
  },
  {
   "cell_type": "code",
   "execution_count": 19,
   "id": "3f1f97a7",
   "metadata": {},
   "outputs": [
    {
     "name": "stdout",
     "output_type": "stream",
     "text": [
      "Введите длину пути: 3\n"
     ]
    }
   ],
   "source": [
    "n = int(input(\"Введите длину пути: \"))"
   ]
  },
  {
   "cell_type": "code",
   "execution_count": 62,
   "id": "8ea39762",
   "metadata": {},
   "outputs": [
    {
     "data": {
      "text/plain": [
       "array([[1., 0., 0.],\n",
       "       [0., 0., 0.],\n",
       "       [0., 0., 1.]])"
      ]
     },
     "execution_count": 62,
     "metadata": {},
     "output_type": "execute_result"
    }
   ],
   "source": [
    "mult_mat(matrix, 2)"
   ]
  },
  {
   "cell_type": "markdown",
   "id": "1eb4a825",
   "metadata": {},
   "source": [
    "## Существует ли путь заданной длины из данной вершиныграфа в указанную"
   ]
  },
  {
   "cell_type": "code",
   "execution_count": 48,
   "id": "c87ebacd",
   "metadata": {},
   "outputs": [
    {
     "name": "stdout",
     "output_type": "stream",
     "text": [
      "Выберите начальную вершину: 4\n",
      "Выберите конечную вершину: 1\n"
     ]
    }
   ],
   "source": [
    "fr = int(input(\"Выберите начальную вершину: \"))\n",
    "to = int(input(\"Выберите конечную вершину: \"))"
   ]
  },
  {
   "cell_type": "code",
   "execution_count": 53,
   "id": "f11a32f5",
   "metadata": {},
   "outputs": [],
   "source": [
    "def is_path(matrix, n, fr, to):\n",
    "    m = mult_mat(matrix, n)\n",
    "    if m[fr-1][to-1] == 1:\n",
    "        print(f'Есть путь длины {n} из вершины {fr} в вершину {to}')\n",
    "    else:\n",
    "        print(f'Нет пути длины {n} из вершины {fr} в вершину {to}')"
   ]
  },
  {
   "cell_type": "code",
   "execution_count": 54,
   "id": "1dccb187",
   "metadata": {},
   "outputs": [
    {
     "name": "stdout",
     "output_type": "stream",
     "text": [
      "Нет пути длины 2 из вершины 4 в вершину 1\n"
     ]
    }
   ],
   "source": [
    "is_path(matrix, 2, fr, to )"
   ]
  },
  {
   "cell_type": "markdown",
   "id": "95004b73",
   "metadata": {},
   "source": [
    "##  Существует ли путь произвольной длины из данной вершины в указанную"
   ]
  },
  {
   "cell_type": "code",
   "execution_count": 57,
   "id": "09a9daa8",
   "metadata": {},
   "outputs": [],
   "source": [
    "def is_any_path(matrix, fr, to):\n",
    "    m = mult_mat(matrix, len(matrix))\n",
    "    if m[fr-1][to-1] == 1:\n",
    "        print(f'Есть путь произвольной длины из вершины {fr} в вершину {to}')\n",
    "    else:\n",
    "        print(f'Нет пути произвольной длины из вершины {fr} в вершину {to}')"
   ]
  },
  {
   "cell_type": "code",
   "execution_count": 64,
   "id": "22de6b50",
   "metadata": {},
   "outputs": [
    {
     "name": "stdout",
     "output_type": "stream",
     "text": [
      "Есть путь произвольной длины из вершины 1 в вершину 2\n"
     ]
    }
   ],
   "source": [
    "is_any_path(matrix, 1, 2)"
   ]
  },
  {
   "cell_type": "code",
   "execution_count": 71,
   "id": "2baaf481",
   "metadata": {},
   "outputs": [
    {
     "data": {
      "image/png": "[encoded data removed]",
      "text/plain": [
       "<Figure size 600x300 with 1 Axes>"
      ]
     },
     "metadata": {},
     "output_type": "display_data"
    }
   ],
   "source": [
    "plt.figure(figsize = (6,3))\n",
    "g = nx.from_numpy_array(matrix)\n",
    "labels = [i+1 for i in range(len(matrix))]\n",
    "nx.draw_spring(g, with_labels = labels, node_color = 'g')\n",
    "plt.show()"
   ]
  },
  {
   "cell_type": "code",
   "execution_count": null,
   "id": "05087443",
   "metadata": {},
   "outputs": [],
   "source": []
  }
 ],
 "metadata": {
  "kernelspec": {
   "display_name": "Python 3 (ipykernel)",
   "language": "python",
   "name": "python3"
  },
  "language_info": {
   "codemirror_mode": {
    "name": "ipython",
    "version": 3
   },
   "file_extension": ".py",
   "mimetype": "text/x-python",
   "name": "python",
   "nbconvert_exporter": "python",
   "pygments_lexer": "ipython3",
   "version": "3.11.4"
  }
 },
 "nbformat": 4,
 "nbformat_minor": 5
}
