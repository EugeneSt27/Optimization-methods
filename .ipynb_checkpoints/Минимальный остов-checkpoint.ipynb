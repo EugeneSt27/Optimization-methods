{
 "cells": [
  {
   "cell_type": "code",
   "execution_count": 2,
   "id": "bc57a5b7",
   "metadata": {},
   "outputs": [],
   "source": [
    "import numpy as np"
   ]
  },
  {
   "cell_type": "code",
   "execution_count": 8,
   "id": "672e0a24",
   "metadata": {},
   "outputs": [],
   "source": [
    "W = np.array([[0, 7, 3, 5, np.inf], \n",
    "              [7, 0, np.inf, 4, 8], \n",
    "              [3, np.inf, 0, np.inf, np.inf],\n",
    "              [5, 4, np.inf, 0, 6], \n",
    "              [np.inf, 8, np.inf, 6, 0]])"
   ]
  },
  {
   "cell_type": "code",
   "execution_count": 14,
   "id": "ed965d67",
   "metadata": {},
   "outputs": [],
   "source": [
    "n = [0,1,2,3,4]"
   ]
  },
  {
   "cell_type": "code",
   "execution_count": 13,
   "id": "f43be5ab",
   "metadata": {},
   "outputs": [],
   "source": [
    "ind = [i for i in n]"
   ]
  },
  {
   "cell_type": "code",
   "execution_count": null,
   "id": "30917a66",
   "metadata": {},
   "outputs": [],
   "source": [
    "edge_list = []"
   ]
  },
  {
   "cell_type": "code",
   "execution_count": null,
   "id": "403d186f",
   "metadata": {},
   "outputs": [],
   "source": []
  },
  {
   "cell_type": "code",
   "execution_count": 22,
   "id": "dc88e097",
   "metadata": {},
   "outputs": [
    {
     "ename": "NameError",
     "evalue": "name 'i' is not defined",
     "output_type": "error",
     "traceback": [
      "\u001b[1;31m---------------------------------------------------------------------------\u001b[0m",
      "\u001b[1;31mNameError\u001b[0m                                 Traceback (most recent call last)",
      "Cell \u001b[1;32mIn[22], line 1\u001b[0m\n\u001b[1;32m----> 1\u001b[0m [\u001b[38;5;28mmin\u001b[39m(W[i]) \u001b[38;5;28;01mfor\u001b[39;00m i \u001b[38;5;129;01min\u001b[39;00m W[i]]\n",
      "\u001b[1;31mNameError\u001b[0m: name 'i' is not defined"
     ]
    }
   ],
   "source": [
    "[min(W[i]) for i in W[i]]"
   ]
  },
  {
   "cell_type": "code",
   "execution_count": 15,
   "id": "2b30cac5",
   "metadata": {},
   "outputs": [
    {
     "ename": "SyntaxError",
     "evalue": "incomplete input (2236499582.py, line 4)",
     "output_type": "error",
     "traceback": [
      "\u001b[1;36m  Cell \u001b[1;32mIn[15], line 4\u001b[1;36m\u001b[0m\n\u001b[1;33m    \u001b[0m\n\u001b[1;37m    ^\u001b[0m\n\u001b[1;31mSyntaxError\u001b[0m\u001b[1;31m:\u001b[0m incomplete input\n"
     ]
    }
   ],
   "source": [
    "\n",
    "for i in range(len(n)-1):\n",
    "    for j in range(len(n)-1):\n",
    "        \n",
    "        "
   ]
  },
  {
   "cell_type": "code",
   "execution_count": null,
   "id": "8500fee6",
   "metadata": {},
   "outputs": [],
   "source": []
  }
 ],
 "metadata": {
  "kernelspec": {
   "display_name": "Python 3 (ipykernel)",
   "language": "python",
   "name": "python3"
  },
  "language_info": {
   "codemirror_mode": {
    "name": "ipython",
    "version": 3
   },
   "file_extension": ".py",
   "mimetype": "text/x-python",
   "name": "python",
   "nbconvert_exporter": "python",
   "pygments_lexer": "ipython3",
   "version": "3.11.4"
  }
 },
 "nbformat": 4,
 "nbformat_minor": 5
}
