{
 "cells": [
  {
   "cell_type": "code",
   "execution_count": 2,
   "id": "622687f4",
   "metadata": {},
   "outputs": [
    {
     "name": "stdout",
     "output_type": "stream",
     "text": [
      "27\n"
     ]
    }
   ],
   "source": [
    "c = [[2, 4, 3, 5, 1],\n",
    "    [3, 1, 2, 3, 4],\n",
    "    [1, 2, 5, 2, 2],\n",
    "    [1, 4, 2, 3, 4]]\n",
    "\n",
    "def max_coins(coins):\n",
    "    m = [[0] * len(coins[0]) for i in range(len(coins))]\n",
    "    for i in range(len(coins)):\n",
    "        for j in range(len(coins[0])):\n",
    "            if i == 0 and j == 0:\n",
    "                m[i][j] = coins[i][j]\n",
    "            elif i == 0:\n",
    "                m[i][j] = coins[i][j] + m[i][j - 1]\n",
    "            elif j == 0:\n",
    "                m[i][j] = coins[i][j] + m[i - 1][j]\n",
    "            else:\n",
    "                m[i][j] = coins[i][j] + max(m[i - 1][j], m[i][j - 1])\n",
    "\n",
    "    return m[-1][-1] \n",
    "\n",
    "print(max_coins(c))"
   ]
  },
  {
   "cell_type": "code",
   "execution_count": null,
   "id": "1e025a68",
   "metadata": {},
   "outputs": [],
   "source": []
  }
 ],
 "metadata": {
  "kernelspec": {
   "display_name": "Python 3 (ipykernel)",
   "language": "python",
   "name": "python3"
  },
  "language_info": {
   "codemirror_mode": {
    "name": "ipython",
    "version": 3
   },
   "file_extension": ".py",
   "mimetype": "text/x-python",
   "name": "python",
   "nbconvert_exporter": "python",
   "pygments_lexer": "ipython3",
   "version": "3.11.4"
  }
 },
 "nbformat": 4,
 "nbformat_minor": 5
}
