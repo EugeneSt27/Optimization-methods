{
 "cells": [
  {
   "cell_type": "markdown",
   "metadata": {},
   "source": [
    "# Аддитивный суперкритерий"
   ]
  },
  {
   "cell_type": "code",
   "execution_count": 1,
   "metadata": {
    "id": "Zz0eKmzCVB9R"
   },
   "outputs": [
    {
     "name": "stdout",
     "output_type": "stream",
     "text": [
      "[15, 10, 5, 10]\n",
      "Результат для А1 равен 0.8\n",
      "Результат для А2 равен 0.825\n",
      "Результат для А3 равен 0.75\n",
      "Результат для А4 равен 0.75\n",
      "Результат для А5 равен 0.8\n"
     ]
    }
   ],
   "source": [
    "weight = (3, 2, 1, 2)\n",
    "value = 5\n",
    "A1 = (4, 3, 4, 5)\n",
    "A2 = (4, 4, 5, 4)\n",
    "A3 = (5, 3, 3, 3)\n",
    "A4 = (4, 3, 4, 4)\n",
    "A5 = (4, 5, 4, 3)\n",
    "maxweight = []\n",
    "for i in range(len(weight)):\n",
    "  x = weight[i]*value\n",
    "  maxweight.append(x)\n",
    "print(maxweight)\n",
    "res1 = []\n",
    "for i in range(len(weight)):\n",
    "  x = weight[i] * A1[i]\n",
    "  res1.append(x)\n",
    "v = sum(res1)/sum(maxweight)\n",
    "maxresult = []\n",
    "maxresult.append(v)\n",
    "print('Результат для А1 равен', v)\n",
    "res2 = []\n",
    "for i in range(len(weight)):\n",
    "  x = weight[i] * A2[i]\n",
    "  res2.append(x)\n",
    "v = sum(res2)/sum(maxweight)\n",
    "maxresult.append(v)\n",
    "print('Результат для А2 равен', v)\n",
    "res3 = []\n",
    "for i in range(len(weight)):\n",
    "  x = weight[i] * A3[i]\n",
    "  res3.append(x)\n",
    "v = sum(res3)/sum(maxweight)\n",
    "maxresult.append(v)\n",
    "print('Результат для А3 равен', v)\n",
    "res4 = []\n",
    "for i in range(len(weight)):\n",
    "  x = weight[i] * A4[i]\n",
    "  res4.append(x)\n",
    "v = sum(res4)/sum(maxweight)\n",
    "maxresult.append(v)\n",
    "print('Результат для А4 равен', v)\n",
    "res5 = []\n",
    "for i in range(len(weight)):\n",
    "  x = weight[i] * A5[i]\n",
    "  res5.append(x)\n",
    "v = sum(res5)/sum(maxweight)\n",
    "maxresult.append(v)\n",
    "print('Результат для А5 равен', v)"
   ]
  },
  {
   "cell_type": "code",
   "execution_count": 2,
   "metadata": {
    "colab": {
     "base_uri": "https://localhost:8080/"
    },
    "id": "uiUJZv0LX_aR",
    "outputId": "4d5c5b87-8d40-4933-8e79-6caeaab2bb47"
   },
   "outputs": [
    {
     "data": {
      "text/plain": [
       "0.825"
      ]
     },
     "execution_count": 2,
     "metadata": {},
     "output_type": "execute_result"
    }
   ],
   "source": [
    "max(maxresult)"
   ]
  },
  {
   "cell_type": "markdown",
   "metadata": {},
   "source": [
    "# Сведение к условной оптимизации"
   ]
  },
  {
   "cell_type": "code",
   "execution_count": 5,
   "metadata": {
    "id": "DNrex2VxYStT"
   },
   "outputs": [
    {
     "data": {
      "text/plain": [
       "['A2']"
      ]
     },
     "execution_count": 5,
     "metadata": {},
     "output_type": "execute_result"
    }
   ],
   "source": [
    "import numpy as np\n",
    "alternatives = {\n",
    "    'A1': np.array([4, 3, 4, 5]),\n",
    "    'A2': np.array([4, 4, 5, 4]),\n",
    "    'A3': np.array([5, 3, 3, 3]),\n",
    "    'A4': np.array([4, 3, 4, 4]),\n",
    "    'A5': np.array([4, 5, 4, 3])}\n",
    "\n",
    "# Функция для сведения к задаче условной оптимизации\n",
    "def conditional_optimization(alternatives, important_criterion_index, ranges):\n",
    "    optimal_alternatives = []\n",
    "    max_value = -np.inf\n",
    "    for name, values in alternatives.items():\n",
    "        if all([ranges[i][0] <= values[i] <= ranges[i][1] for i in range(len(values)) if i != important_criterion_index]):\n",
    "            if values[important_criterion_index] > max_value:\n",
    "                optimal_alternatives = [name]\n",
    "                max_value = values[important_criterion_index]\n",
    "            elif values[important_criterion_index] == max_value:\n",
    "                optimal_alternatives.append(name)\n",
    "    return optimal_alternatives\n",
    "important_criterion_index = 2\n",
    "ranges = [(3, 5), (2, 4), (3, 5), (3, 5)]  \n",
    "\n",
    "optimal_by_conditional = conditional_optimization(alternatives, important_criterion_index, ranges)\n",
    "optimal_by_conditional\n"
   ]
  },
  {
   "cell_type": "markdown",
   "metadata": {},
   "source": [
    "# Оптимальность по Парето"
   ]
  },
  {
   "cell_type": "code",
   "execution_count": 2,
   "metadata": {},
   "outputs": [
    {
     "data": {
      "text/plain": [
       "['A1', 'A2', 'A3', 'A5']"
      ]
     },
     "execution_count": 2,
     "metadata": {},
     "output_type": "execute_result"
    }
   ],
   "source": [
    "def pareto_optimal(alternatives):\n",
    "    pareto_optimal = []\n",
    "    for name, values in alternatives.items():\n",
    "        dominated = False\n",
    "        for other_name, other_values in alternatives.items():\n",
    "            if name != other_name:\n",
    "                if all(other_values >= values) and any(other_values > values):\n",
    "                    dominated = True\n",
    "                    break\n",
    "        if not dominated:\n",
    "            pareto_optimal.append(name)\n",
    "    return pareto_optimal\n",
    "\n",
    "pareto_optimal_alternatives = pareto_optimal(alternatives)\n",
    "pareto_optimal_alternatives"
   ]
  }
 ],
 "metadata": {
  "colab": {
   "provenance": []
  },
  "kernelspec": {
   "display_name": "Python 3 (ipykernel)",
   "language": "python",
   "name": "python3"
  },
  "language_info": {
   "codemirror_mode": {
    "name": "ipython",
    "version": 3
   },
   "file_extension": ".py",
   "mimetype": "text/x-python",
   "name": "python",
   "nbconvert_exporter": "python",
   "pygments_lexer": "ipython3",
   "version": "3.11.4"
  }
 },
 "nbformat": 4,
 "nbformat_minor": 1
}
