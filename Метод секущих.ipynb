{
 "cells": [
  {
   "cell_type": "code",
   "execution_count": 13,
   "id": "b61cbc05",
   "metadata": {},
   "outputs": [],
   "source": [
    "import matplotlib.pyplot as plt\n",
    "%matplotlib inline\n",
    "import numpy as np"
   ]
  },
  {
   "cell_type": "markdown",
   "id": "7befe1ac",
   "metadata": {},
   "source": [
    "# Метод секущих"
   ]
  },
  {
   "cell_type": "code",
   "execution_count": 2,
   "id": "a226fd85",
   "metadata": {},
   "outputs": [],
   "source": [
    "def func(x):\n",
    "    return x**4 + 7*x**2 +2*x +1"
   ]
  },
  {
   "cell_type": "code",
   "execution_count": 3,
   "id": "e062b983",
   "metadata": {},
   "outputs": [],
   "source": [
    "def dfunc(x):\n",
    "    return 4*x**3 + 14*x +2"
   ]
  },
  {
   "cell_type": "code",
   "execution_count": 10,
   "id": "e2d4456a",
   "metadata": {},
   "outputs": [],
   "source": [
    "a = -3\n",
    "b = 2\n",
    "eps = 0.1\n",
    "k = 1\n",
    "z = 10"
   ]
  },
  {
   "cell_type": "code",
   "execution_count": 11,
   "id": "cb6ddf1a",
   "metadata": {},
   "outputs": [
    {
     "name": "stdout",
     "output_type": "stream",
     "text": [
      "На 1 итерации значение х равно 0.524, f(x) = 4.0435\n",
      "На 2 итерации значение х равно 0.303, f(x) = 2.2552\n",
      "На 3 итерации значение х равно 0.167, f(x) = 1.5294\n",
      "На 4 итерации значение х равно 0.076, f(x) = 1.1935\n",
      "На 5 итерации значение х равно 0.014, f(x) = 1.029\n",
      "На 6 итерации значение х равно -0.03, f(x) = 0.946\n",
      "На 7 итерации значение х равно -0.062, f(x) = 0.9035\n",
      "На 8 итерации значение х равно -0.084, f(x) = 0.8815\n",
      "На 9 итерации значение х равно -0.1, f(x) = 0.8701\n",
      "На 10 итерации значение х равно -0.112, f(x) = 0.8641\n",
      "На 11 итерации значение х равно -0.12, f(x) = 0.861\n",
      "На 12 итерации значение х равно -0.126, f(x) = 0.8594\n",
      "На 13 итерации значение х равно -0.131, f(x) = 0.8585\n",
      "На 14 итерации значение х равно -0.134, f(x) = 0.8581\n",
      "На 15 итерации значение х равно -0.136, f(x) = 0.8578\n",
      "Решение с точностью 0.086 найдено на 15 итерации , x* = -0.136, f(x*) = 0.85782 \n"
     ]
    }
   ],
   "source": [
    "x_list = []\n",
    "f_list = []\n",
    "while abs(dfunc(z)) > eps:\n",
    "    z = b - (dfunc(b)*(b-a))/(dfunc(b)-dfunc(a))\n",
    "    if dfunc(z) < 0:\n",
    "        a = z\n",
    "    else:\n",
    "        b = z\n",
    "    x_opt = z\n",
    "    f_opt = func(x_opt)\n",
    "    print(f'На {k} итерации значение х равно {round(x_opt,3)}, f(x) = {round(f_opt,4)}')\n",
    "    x_list.append(x_opt)\n",
    "    f_list.append(f_opt)\n",
    "    k+=1\n",
    "print(f'Решение с точностью {round(abs(dfunc(z)),3)} найдено на {k-1} итерации , x* = {round(x_opt,3)}, f(x*) = {round(f_opt,5)} ')"
   ]
  },
  {
   "cell_type": "markdown",
   "id": "ef04c3ec",
   "metadata": {},
   "source": [
    "# График функции"
   ]
  },
  {
   "cell_type": "code",
   "execution_count": 17,
   "id": "4716af49",
   "metadata": {},
   "outputs": [
    {
     "data": {
      "image/png": "[encoded data removed]",
      "text/plain": [
       "<Figure size 640x480 with 1 Axes>"
      ]
     },
     "metadata": {},
     "output_type": "display_data"
    }
   ],
   "source": [
    "plt.xlabel('x')\n",
    "plt.ylabel('y')\n",
    "x = np.linspace(-1, 1, 100) \n",
    "y = x**4 + 7*x**2 +2*x +1\n",
    "#print(x_list, f_list,sep='\\n')\n",
    "plt.ylim([0,5])\n",
    "plt.xlim([-0.75,0.75])\n",
    "plt.plot(x, y, 'blue')\n",
    "plt.scatter(x_list, f_list, c = 'red', s =20)\n",
    "plt.show()"
   ]
  }
 ],
 "metadata": {
  "kernelspec": {
   "display_name": "Python 3 (ipykernel)",
   "language": "python",
   "name": "python3"
  },
  "language_info": {
   "codemirror_mode": {
    "name": "ipython",
    "version": 3
   },
   "file_extension": ".py",
   "mimetype": "text/x-python",
   "name": "python",
   "nbconvert_exporter": "python",
   "pygments_lexer": "ipython3",
   "version": "3.11.4"
  }
 },
 "nbformat": 4,
 "nbformat_minor": 5
}
