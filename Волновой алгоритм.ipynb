{
 "cells": [
  {
   "cell_type": "code",
   "execution_count": 1,
   "id": "68777b02",
   "metadata": {},
   "outputs": [],
   "source": [
    "def found(pathArr, finPoint):\n",
    "    weight = 1\n",
    "    for i in range(len(pathArr)*len(pathArr[0])):\n",
    "        weight += 1 \n",
    "        for y in range(len(pathArr)):          \n",
    "            for x in range(len(pathArr[y])):                   \n",
    "                if pathArr[y][x] == (weight - 1):            \n",
    "                    if y > 0 and pathArr[y-1][x] == 0:\n",
    "                        pathArr[y-1][x] = weight\n",
    "                    if y < (len(pathArr)-1) and pathArr[y+1][x] == 0:\n",
    "                        pathArr[y+1][x] = weight\n",
    "                    if x > 0 and pathArr[y][x-1] == 0:\n",
    "                        pathArr[y][x-1] = weight\n",
    "                    if x < (len(pathArr[y])-1) and pathArr[y][x+1] == 0:\n",
    "                        pathArr[y][x+1] = weight\n",
    "                            \n",
    "                    if (abs(y-finPoint[0]) + abs(x-finPoint[1])) == 1:\n",
    "                        pathArr[finPoint[0]][finPoint[1]] = weight\n",
    "                        return True           \n",
    "    return False      "
   ]
  },
  {
   "cell_type": "code",
   "execution_count": 2,
   "id": "74fd8285",
   "metadata": {},
   "outputs": [],
   "source": [
    "def printPath(pathArr, finPoint):      \n",
    "    y = finPoint[0]\n",
    "    x = finPoint[1]\n",
    "    weight = pathArr[y][x]\n",
    "    result = list(range(weight))\n",
    "    while (weight):\n",
    "        weight -=1\n",
    "        if y > 0 and pathArr[y-1][x] == weight:\n",
    "            y -= 1\n",
    "            result[weight] = 'down' \n",
    "        elif y < (len(pathArr)-1) and pathArr[y+1][x] == weight:\n",
    "            result[weight] = 'up' \n",
    "            y += 1\n",
    "        elif x > 0 and pathArr[y][x-1] == weight:\n",
    "            result[weight] = 'right' \n",
    "            x -= 1\n",
    "        elif x < (len(pathArr[y])-1) and pathArr[y][x+1] == weight:\n",
    "            result[weight] = 'left' \n",
    "            x += 1\n",
    "            \n",
    "    return result[1:]"
   ]
  },
  {
   "cell_type": "code",
   "execution_count": 3,
   "id": "701a0162",
   "metadata": {},
   "outputs": [
    {
     "name": "stdout",
     "output_type": "stream",
     "text": [
      "-1 ,-1 ,-1 ,-1 ,-1 ,-1 ,-1 ,-1 ,-1 ,-1 ,\n",
      "-1 , 3 , 4 , 5 , 6 , 7 , 8 , 9 ,10 ,-1 ,\n",
      " 1 , 2 ,-1 ,-1 ,-1 ,-1 , 9 ,-1 ,-1 ,-1 ,\n",
      "-1 , 3 ,-1 ,-1 ,10 ,11 ,10 ,-1 ,-1 ,-1 ,\n",
      "-1 , 4 ,-1 ,-1 , 9 ,-1 ,11 ,12 ,13 ,-1 ,\n",
      "-1 , 5 , 6 , 7 , 8 ,-1 ,12 ,-1 ,14 ,-1 ,\n",
      "-1 ,-1 , 7 ,-1 ,-1 ,-1 ,13 ,-1 ,15 ,-1 ,\n",
      "22 ,21 ,-1 ,19 ,-1 ,-1 ,14 ,15 ,16 ,-1 ,\n",
      "-1 ,20 ,19 ,18 ,17 ,16 ,15 ,-1 ,17 ,-1 ,\n",
      "-1 ,-1 ,-1 ,19 ,-1 ,17 ,-1 ,-1 ,18 ,-1 ,\n",
      "-1 ,-1 ,-1 ,-1 ,-1 ,-1 ,-1 ,-1 ,-1 ,-1 ,\n",
      "['right', 'up', 'right', 'right', 'right', 'right', 'right', 'down', 'down', 'down', 'down', 'down', 'down', 'down', 'left', 'left', 'left', 'left', 'left', 'up', 'left']\n"
     ]
    }
   ],
   "source": [
    "def main():\n",
    "    # Выход из лабиринта .Волновой алгоритм\n",
    "    labirint = [\n",
    "        [1, 1, 1, 1, 1, 1, 1, 1, 1, 1],\n",
    "        [1, 0, 0, 0, 0, 0, 0, 0, 0, 1],\n",
    "        [0, 0, 1, 1, 1, 1, 0, 1, 1, 1],\n",
    "        [1, 0, 1, 1, 0, 0, 0, 1, 1, 1],\n",
    "        [1, 0, 1, 1, 0, 1, 0, 0, 0, 1],\n",
    "        [1, 0, 0, 0, 0, 1, 0, 1, 0, 1],\n",
    "        [1, 1, 0, 1, 1, 1, 0, 1, 0, 1],\n",
    "        [0, 0, 1, 0, 1, 1, 0, 0, 0, 1],\n",
    "        [1, 0, 0, 0, 0, 0, 0, 1, 0, 1],\n",
    "        [1, 1, 1, 0, 1, 0, 1, 1, 0, 1],\n",
    "        [1, 1, 1, 1, 1, 1, 1, 1, 1, 1]\n",
    "    ]\n",
    "    # Координаты входа [2,0], координаты выхода [7,0]. В которой 1 - это стена, 0 - это путь.\n",
    "    # координаты входа\n",
    "    pozIn =(2,0)\n",
    "    pozOut=(7,0)\n",
    " \n",
    "    path = [ [x if x == 0 else -1 for x in y] for y in labirint ]\n",
    "    path[pozIn[0]][pozIn[1]] = 1; \n",
    " \n",
    "    if not found(path, pozOut):\n",
    "        print(\"Путь не найден!\")\n",
    "        return    \n",
    "    \n",
    "    result = printPath(path,pozOut)\n",
    "        \n",
    "    for i in path:\n",
    "        for line in i:\n",
    "            print(\"{:^3}\".format(line), end = \",\")\n",
    "        print(\"\")\n",
    "    print(result)        \n",
    "       \n",
    "    \n",
    "       \n",
    " \n",
    "if __name__ == '__main__':\n",
    "    main()"
   ]
  }
 ],
 "metadata": {
  "kernelspec": {
   "display_name": "Python 3 (ipykernel)",
   "language": "python",
   "name": "python3"
  },
  "language_info": {
   "codemirror_mode": {
    "name": "ipython",
    "version": 3
   },
   "file_extension": ".py",
   "mimetype": "text/x-python",
   "name": "python",
   "nbconvert_exporter": "python",
   "pygments_lexer": "ipython3",
   "version": "3.11.4"
  }
 },
 "nbformat": 4,
 "nbformat_minor": 5
}
